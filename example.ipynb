{
 "cells": [
  {
   "cell_type": "code",
   "execution_count": 1,
   "id": "66ff9e70-8637-4696-9edd-5928a6b393f1",
   "metadata": {},
   "outputs": [],
   "source": [
    "import numpy as np\n",
    "import matplotlib.pyplot as plt\n",
    "import matplotlib as mpl\n",
    "import os, sys\n",
    "from pathlib import Path\n",
    "import pdb\n",
    "import importlib\n",
    "from scipy.io import readsav\n",
    "import pickle\n",
    "import gx_chromo.combo_model\n",
    "import importlib\n",
    "import json\n",
    "\n",
    "wrapper_path = \"./nlfff/python/ASMagLibPy/\"\n",
    "nlfff_libpath = (Path(wrapper_path) / '../../binaries/WWNLFFFReconstruction.so').resolve()\n",
    "radio_libpath = \"./rendergrff/binaries/RenderGRFF.so\"\n",
    "\n",
    "sys.path.append(wrapper_path)\n",
    "from MagFieldWrapper import MagFieldWrapper\n",
    "from radio import GXRadioImageComputing\n",
    "\n",
    "font = {\"weight\": \"normal\", \"size\": 12}\n",
    "mpl.rc(\"font\", **font)"
   ]
  },
  {
   "cell_type": "code",
   "execution_count": 2,
   "id": "bc35bcb3-9a78-4886-9f52-5c0bef28b855",
   "metadata": {},
   "outputs": [],
   "source": [
    "#del GXRadioImageComputing\n",
    "#del sys.modules[\"radio\"]"
   ]
  },
  {
   "cell_type": "code",
   "execution_count": 3,
   "id": "0b4cc0ec-fad7-4783-ad4d-7b80b84dd4b2",
   "metadata": {},
   "outputs": [],
   "source": [
    "conf_path = Path(\"./test_files.json\").resolve()\n",
    "if not conf_path.exists():\n",
    "    print(\"does not exist, using default parameters\")\n",
    "    data_path = (Path(\"./data\")).resolve()\n",
    "    pot_path = data_path / \"test.POT.sav\"\n",
    "    bndpath = data_path / \"test.BND.sav\"\n",
    "    ebtel_file = \"/path/to/your/gx_simulator/userslib/aia/ebtel/ebtel.sav\"\n",
    "else:\n",
    "    config = json.load(open(str(conf_path), \"rb\"))\n",
    "    pot_path = config[\"pot_path\"]\n",
    "    bndpath = config[\"bnd_path\"]\n",
    "    ebtel_file = config[\"ebtel_file\"]"
   ]
  },
  {
   "cell_type": "code",
   "execution_count": 4,
   "id": "666f3500-7103-4510-a3cf-8552ef494781",
   "metadata": {},
   "outputs": [
    {
     "name": "stdout",
     "output_type": "stream",
     "text": [
      "Load potential cube ...\n",
      "Potential energy: 5.25976502130115e+32 erg\n",
      "Load photoshere bounded cube ...\n",
      "Calculate NLFFF ...\n",
      "NLFFF energy:     6.216397209179598e+32 erg\n",
      "Calculating field lines\n",
      "CPU times: user 1h 2min 7s, sys: 11min 23s, total: 1h 13min 30s\n",
      "Wall time: 16min 36s\n"
     ]
    }
   ],
   "source": [
    "%%time\n",
    "\n",
    "maglib = MagFieldWrapper(nlfff_libpath)\n",
    "\n",
    "print('Load potential cube ...')\n",
    "maglib.load_cube(pot_path)\n",
    "energy_pot = maglib.energy\n",
    "print('Potential energy: ' + str(energy_pot) + ' erg')\n",
    "\n",
    "print('Load photoshere bounded cube ...')\n",
    "maglib.load_cube(bndpath)\n",
    "print('Calculate NLFFF ...')\n",
    "box = maglib.NLFFF()\n",
    "energy_new = maglib.energy\n",
    "print('NLFFF energy:     ' + str(energy_new) + ' erg')\n",
    "\n",
    "print(\"Calculating field lines\")\n",
    "lines = maglib.lines(seeds = None)"
   ]
  },
  {
   "cell_type": "code",
   "execution_count": 5,
   "id": "b83222dd-9324-4cae-a97d-e58584d1e4ed",
   "metadata": {},
   "outputs": [],
   "source": [
    "bndbox = readsav(bndpath, python_dict=True)[\"box\"]"
   ]
  },
  {
   "cell_type": "code",
   "execution_count": 6,
   "id": "0eea4ba1-c67f-4d50-97ff-a0e28a5d39f7",
   "metadata": {},
   "outputs": [
    {
     "name": "stdout",
     "output_type": "stream",
     "text": [
      "cutoff_qs:  0.9872897587143802 14131\n",
      "cutoff_b:  1.0074705648009001\n",
      "cutoff_f:  1.0357057670148673\n",
      "umbra: nelem=  15744  abs(B) range:  0.08795370033654049 3644.501680914637\n",
      "penumbra: nelem=  28107  abs(B) range:  0.0264753745335507 2087.409023124798\n",
      "eNW: nelem=  2617  abs(B) range:  0.002047932029135318 1361.782372766335\n",
      "NW: nelem=  19188  abs(B) range:  0.003994815976981855 1344.1481798170337\n",
      "IN: nelem=  65416  abs(B) range:  6.759436274499792e-05 1724.9467305150138\n",
      "plage: nelem=  44697  abs(B) range:  30.002322356988575 1471.1121214887253\n",
      "facula: nelem=  19282  abs(B) range:  30.003666496305556 1361.782372766335\n",
      "Total elements:  195051\n",
      "Number of elements in cont:  131072\n"
     ]
    }
   ],
   "source": [
    "chromo_box=gx_chromo.combo_model.combo_model(bndbox, box)"
   ]
  },
  {
   "cell_type": "code",
   "execution_count": 7,
   "id": "9a123065-34f5-4445-9db5-9b50050d7381",
   "metadata": {},
   "outputs": [],
   "source": [
    "chromo_box[\"avfield\"] = lines[\"av_field\"].transpose((1, 2, 0))\n",
    "chromo_box[\"physlength\"] = lines[\"phys_length\"].transpose((1, 2, 0)) * bndbox[\"dr\"][0][0]\n",
    "chromo_box[\"status\"] = lines[\"voxel_status\"].transpose((1, 2, 0))"
   ]
  },
  {
   "cell_type": "code",
   "execution_count": 8,
   "id": "6a059c59-9a40-41ab-acd9-fbc1d9fdf361",
   "metadata": {},
   "outputs": [],
   "source": [
    "header = {}\n",
    "for val in (\"CRVAL1\", \"CRVAL2\", \"DATE_OBS\", \"DSUN_OBS\"):\n",
    "    header[val] = bndbox[\"index\"][0][val][0]"
   ]
  },
  {
   "cell_type": "code",
   "execution_count": 9,
   "id": "5d1d99e5-f71f-4286-8546-02299419c650",
   "metadata": {},
   "outputs": [],
   "source": [
    "gxi = GXRadioImageComputing(radio_libpath)"
   ]
  },
  {
   "cell_type": "code",
   "execution_count": 10,
   "id": "189a6ea1-cb36-45cf-9329-d604dc7b49e0",
   "metadata": {},
   "outputs": [],
   "source": [
    "ebtel, ebtel_dt = gxi.load_ebtel(ebtel_file)\n",
    "model, model_dt = gxi.load_model_dict(chromo_box, header)\n",
    "\n",
    "box_Nx=150\n",
    "box_Ny=150\n",
    "box_xc=-230\n",
    "box_yc=-110\n",
    "box_dx=2.0\n",
    "box_dy=2.0\n",
    "\n",
    "freqlist=[17.0, 34.0]\n",
    "\n",
    "Tbase=1e6\n",
    "nbase=1e8\n",
    "Q0=4.5e-3\n",
    "a=1.5\n",
    "b=2.5\n",
    "\n",
    "results = gxi.synth_model(model, model_dt,\n",
    "                          ebtel, ebtel_dt, freqlist,\n",
    "                          box_Nx, box_Ny, box_xc, box_yc, box_dx, box_dy, Tbase, nbase, Q0, a, b, force_isothermal=1)"
   ]
  },
  {
   "cell_type": "code",
   "execution_count": 11,
   "id": "e4e80ee5-dafc-403f-b372-09d2a0440def",
   "metadata": {},
   "outputs": [
    {
     "data": {
      "image/png": "[encoded data removed]",
      "text/plain": [
       "<Figure size 1000x400 with 4 Axes>"
      ]
     },
     "metadata": {},
     "output_type": "display_data"
    }
   ],
   "source": [
    "fig1, (ax1, ax2) = plt.subplots(1, 2, figsize=(10, 4))\n",
    "i1 = ax1.imshow(np.transpose(results[\"TI\"][:, :, 0]), origin='lower')\n",
    "i2 = ax2.imshow(np.transpose(results[\"TV\"][:, :, 0]), origin='lower')\n",
    "\n",
    "plt.colorbar(i1, ax=ax1)\n",
    "plt.colorbar(i2, ax=ax2)\n",
    "\n",
    "plt.show()"
   ]
  },
  {
   "cell_type": "code",
   "execution_count": 12,
   "id": "e7fab043-896e-4659-8899-948d86d43599",
   "metadata": {},
   "outputs": [
    {
     "data": {
      "text/plain": [
       "array([[44622.88244348, 58569.11060454, 39175.53180283, ...,\n",
       "        41846.32514384, 44154.44192985, 39153.09092602],\n",
       "       [33500.06707208, 47466.49138868, 54277.03132214, ...,\n",
       "        32960.61352314, 30382.89520713, 47681.07143756],\n",
       "       [28866.67789401, 30852.14229384, 49168.22897409, ...,\n",
       "        34894.70134773, 50462.49520008, 42332.07668067],\n",
       "       ...,\n",
       "       [17762.05189008,  7499.17141942, 14046.15132906, ...,\n",
       "        27808.11658736, 27739.80305539, 25017.97536932],\n",
       "       [17512.23499371, 14087.75134553, 14096.97737048, ...,\n",
       "        27337.12765875, 23884.98492554, 24375.98718058],\n",
       "       [17152.17012673, 17226.00763729, 17251.87445214, ...,\n",
       "        25718.11821723, 26344.24666224, 23732.14209878]])"
      ]
     },
     "execution_count": 12,
     "metadata": {},
     "output_type": "execute_result"
    }
   ],
   "source": [
    "results[\"TI\"][20:80, 60:100, 0]"
   ]
  }
 ],
 "metadata": {
  "kernelspec": {
   "display_name": "Python 3 (ipykernel)",
   "language": "python",
   "name": "python3"
  },
  "language_info": {
   "codemirror_mode": {
    "name": "ipython",
    "version": 3
   },
   "file_extension": ".py",
   "mimetype": "text/x-python",
   "name": "python",
   "nbconvert_exporter": "python",
   "pygments_lexer": "ipython3",
   "version": "3.12.2"
  }
 },
 "nbformat": 4,
 "nbformat_minor": 5
}
